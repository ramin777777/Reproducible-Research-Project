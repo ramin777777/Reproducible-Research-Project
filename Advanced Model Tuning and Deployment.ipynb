# Importing libraries
import pickle
from sklearn.model_selection import GridSearchCV
 
# Load model training section by Salim
# Advanced Model Tuning
param_grid = {
    'n_estimators': [50, 100, 200],
    'max_depth': [None, 10, 20, 30],
    'min_samples_split': [2, 5, 10]
}
cv = GridSearchCV(model, param_grid, scoring='roc_auc', cv=3)
cv.fit(X_train, y_train)

# Selecting the best model and evaluating it
best_model = cv.best_estimator_
y_pred_test = best_model.predict_proba(X_test)[:, 1]
print('Test AUC: %.3f' % roc_auc_score(y_test, y_pred_test))

# Saving the model for deployment
filename = 'finalized_model.sav'
pickle.dump(best_model, open(filename, 'wb'))

# Load the model from disk
loaded_model = pickle.load(open(filename, 'rb'))
result = loaded_model.score(X_test, y_test)
print('Loaded model score:', result)

