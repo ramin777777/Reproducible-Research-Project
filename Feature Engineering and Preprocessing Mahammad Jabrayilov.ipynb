{
 "cells": [
  {
   "cell_type": "code",
   "execution_count": null,
   "id": "0c96dcf2",
   "metadata": {},
   "outputs": [],
   "source": [
    "# Importing libraries\n",
    "import pandas as pd\n",
    "\n",
    "# Data has already been loaded by Ramin\n",
    "# Feature Engineering\n",
    "df['age'] = df['age'].fillna(df['age'].mean())  # Example of filling missing values\n",
    "\n",
    "# Handling categorical data using one-hot encoding\n",
    "cols_cat = ['job', 'marital', 'education', 'default', 'housing', 'loan', 'contact', 'month', 'day_of_week', 'poutcome']\n",
    "df = pd.get_dummies(df, columns=cols_cat, drop_first=True)\n",
    "\n",
    "# Feature Scaling\n",
    "from sklearn.preprocessing import StandardScaler\n",
    "scaler = StandardScaler()\n",
    "cols_num = ['age', 'campaign', 'pdays', 'previous', 'emp.var.rate', 'cons.price.idx', 'cons.conf.idx', 'nr.employed', 'euribor3m']\n",
    "df[cols_num] = scaler.fit_transform(df[cols_num])\n",
    "\n",
    "# Output the first few rows to verify transformations\n",
    "df.head()"
   ]
  }
 ],
 "metadata": {
  "kernelspec": {
   "display_name": "Python 3 (ipykernel)",
   "language": "python",
   "name": "python3"
  },
  "language_info": {
   "codemirror_mode": {
    "name": "ipython",
    "version": 3
   },
   "file_extension": ".py",
   "mimetype": "text/x-python",
   "name": "python",
   "nbconvert_exporter": "python",
   "pygments_lexer": "ipython3",
   "version": "3.10.9"
  }
 },
 "nbformat": 4,
 "nbformat_minor": 5
}
